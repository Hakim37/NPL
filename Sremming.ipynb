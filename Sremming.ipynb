{
 "cells": [
  {
   "cell_type": "markdown",
   "id": "e75a9bfb",
   "metadata": {},
   "source": [
    "### In this program we can using porterStemmer"
   ]
  },
  {
   "cell_type": "code",
   "execution_count": 1,
   "id": "9db3f674",
   "metadata": {},
   "outputs": [],
   "source": [
    "from nltk.stem import PorterStemmer"
   ]
  },
  {
   "cell_type": "code",
   "execution_count": 2,
   "id": "c3e37fd3",
   "metadata": {},
   "outputs": [
    {
     "data": {
      "text/plain": [
       "('run', 'cooki', 'fli')"
      ]
     },
     "execution_count": 2,
     "metadata": {},
     "output_type": "execute_result"
    }
   ],
   "source": [
    "pst=PorterStemmer()\n",
    "pst.stem(\"running\"),pst.stem(\"cookies\"),pst.stem(\"flying\")"
   ]
  },
  {
   "cell_type": "code",
   "execution_count": null,
   "id": "e6b1ec6f",
   "metadata": {},
   "outputs": [],
   "source": []
  }
 ],
 "metadata": {
  "kernelspec": {
   "display_name": "Python 3",
   "language": "python",
   "name": "python3"
  },
  "language_info": {
   "codemirror_mode": {
    "name": "ipython",
    "version": 3
   },
   "file_extension": ".py",
   "mimetype": "text/x-python",
   "name": "python",
   "nbconvert_exporter": "python",
   "pygments_lexer": "ipython3",
   "version": "3.8.8"
  }
 },
 "nbformat": 4,
 "nbformat_minor": 5
}
