{
 "cells": [
  {
   "cell_type": "code",
   "execution_count": 3,
   "id": "5f0e2459",
   "metadata": {},
   "outputs": [],
   "source": [
    "saying = ['After','all','is','said','and','done']"
   ]
  },
  {
   "cell_type": "code",
   "execution_count": 5,
   "id": "0354fedf",
   "metadata": {},
   "outputs": [
    {
     "data": {
      "text/plain": [
       "['is', 'said']"
      ]
     },
     "execution_count": 5,
     "metadata": {},
     "output_type": "execute_result"
    }
   ],
   "source": [
    "tokens = set(saying)\n",
    "tokens = sorted(tokens)\n",
    "tokens[-2:]"
   ]
  }
 ],
 "metadata": {
  "kernelspec": {
   "display_name": "Python 3",
   "language": "python",
   "name": "python3"
  },
  "language_info": {
   "codemirror_mode": {
    "name": "ipython",
    "version": 3
   },
   "file_extension": ".py",
   "mimetype": "text/x-python",
   "name": "python",
   "nbconvert_exporter": "python",
   "pygments_lexer": "ipython3",
   "version": "3.8.8"
  }
 },
 "nbformat": 4,
 "nbformat_minor": 5
}
