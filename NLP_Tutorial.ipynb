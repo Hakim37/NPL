{
 "cells": [
  {
   "cell_type": "markdown",
   "metadata": {},
   "source": [
    "# Tokenization"
   ]
  },
  {
   "cell_type": "code",
   "execution_count": 1,
   "metadata": {},
   "outputs": [],
   "source": [
    "import nltk\n",
    "import nltk.corpus"
   ]
  },
  {
   "cell_type": "code",
   "execution_count": 2,
   "metadata": {},
   "outputs": [],
   "source": [
    "from nltk.tokenize import word_tokenize"
   ]
  },
  {
   "cell_type": "code",
   "execution_count": 3,
   "metadata": {},
   "outputs": [],
   "source": [
    "# string\n",
    "\n",
    "cricker = \"After surprising the hosts in the first Test,Sri Lank made a positive start to the second Test as well by bowling\""
   ]
  },
  {
   "cell_type": "code",
   "execution_count": 4,
   "metadata": {},
   "outputs": [
    {
     "data": {
      "text/plain": [
       "['After',\n",
       " 'surprising',\n",
       " 'the',\n",
       " 'hosts',\n",
       " 'in',\n",
       " 'the',\n",
       " 'first',\n",
       " 'Test',\n",
       " ',',\n",
       " 'Sri',\n",
       " 'Lank',\n",
       " 'made',\n",
       " 'a',\n",
       " 'positive',\n",
       " 'start',\n",
       " 'to',\n",
       " 'the',\n",
       " 'second',\n",
       " 'Test',\n",
       " 'as',\n",
       " 'well',\n",
       " 'by',\n",
       " 'bowling']"
      ]
     },
     "execution_count": 4,
     "metadata": {},
     "output_type": "execute_result"
    }
   ],
   "source": [
    "#tokenizing\n",
    "cricket_tokens = word_tokenize(cricker)\n",
    "cricket_tokens"
   ]
  },
  {
   "cell_type": "code",
   "execution_count": 5,
   "metadata": {},
   "outputs": [
    {
     "data": {
      "text/plain": [
       "(list, 23)"
      ]
     },
     "execution_count": 5,
     "metadata": {},
     "output_type": "execute_result"
    }
   ],
   "source": [
    "#checking the type and number od tokens\n",
    "\n",
    "type(cricket_tokens), len(cricket_tokens)"
   ]
  },
  {
   "cell_type": "code",
   "execution_count": 7,
   "metadata": {},
   "outputs": [],
   "source": [
    "#frequentdy of tokend\n",
    "\n",
    "from nltk.probability import FreqDist\n",
    "fdist = FreqDist()\n"
   ]
  },
  {
   "cell_type": "code",
   "execution_count": 9,
   "metadata": {},
   "outputs": [
    {
     "data": {
      "text/plain": [
       "FreqDist({'the': 6, 'Test': 4, 'After': 2, 'surprising': 2, 'hosts': 2, 'in': 2, 'first': 2, ',': 2, 'Sri': 2, 'Lank': 2, ...})"
      ]
     },
     "execution_count": 9,
     "metadata": {},
     "output_type": "execute_result"
    }
   ],
   "source": [
    "for i in cricket_tokens:\n",
    "    fdist[i]=fdist[i]+1\n",
    "fdist"
   ]
  },
  {
   "cell_type": "code",
   "execution_count": 10,
   "metadata": {},
   "outputs": [
    {
     "data": {
      "text/plain": [
       "[('the', 6),\n",
       " ('Test', 4),\n",
       " ('After', 2),\n",
       " ('surprising', 2),\n",
       " ('hosts', 2),\n",
       " ('in', 2),\n",
       " ('first', 2),\n",
       " (',', 2),\n",
       " ('Sri', 2),\n",
       " ('Lank', 2)]"
      ]
     },
     "execution_count": 10,
     "metadata": {},
     "output_type": "execute_result"
    }
   ],
   "source": [
    "#ten most common takens\n",
    "top_10 = fdist.most_common(10)\n",
    "top_10"
   ]
  },
  {
   "cell_type": "code",
   "execution_count": 11,
   "metadata": {},
   "outputs": [
    {
     "data": {
      "text/plain": [
       "['After',\n",
       " 'surprising',\n",
       " 'the',\n",
       " 'hosts',\n",
       " 'in',\n",
       " 'the',\n",
       " 'first',\n",
       " 'Test',\n",
       " ',',\n",
       " 'Sri',\n",
       " 'Lank',\n",
       " 'made',\n",
       " 'a',\n",
       " 'positive',\n",
       " 'start',\n",
       " 'to',\n",
       " 'the',\n",
       " 'second',\n",
       " 'Test',\n",
       " 'as',\n",
       " 'well',\n",
       " 'by',\n",
       " 'bowling']"
      ]
     },
     "execution_count": 11,
     "metadata": {},
     "output_type": "execute_result"
    }
   ],
   "source": [
    "cricket_tokens"
   ]
  },
  {
   "cell_type": "code",
   "execution_count": 15,
   "metadata": {},
   "outputs": [
    {
     "data": {
      "text/plain": [
       "[('After', 'surprising'),\n",
       " ('surprising', 'the'),\n",
       " ('the', 'hosts'),\n",
       " ('hosts', 'in'),\n",
       " ('in', 'the'),\n",
       " ('the', 'first'),\n",
       " ('first', 'Test'),\n",
       " ('Test', ','),\n",
       " (',', 'Sri'),\n",
       " ('Sri', 'Lank'),\n",
       " ('Lank', 'made'),\n",
       " ('made', 'a'),\n",
       " ('a', 'positive'),\n",
       " ('positive', 'start'),\n",
       " ('start', 'to'),\n",
       " ('to', 'the'),\n",
       " ('the', 'second'),\n",
       " ('second', 'Test'),\n",
       " ('Test', 'as'),\n",
       " ('as', 'well'),\n",
       " ('well', 'by'),\n",
       " ('by', 'bowling')]"
      ]
     },
     "execution_count": 15,
     "metadata": {},
     "output_type": "execute_result"
    }
   ],
   "source": [
    "list(nltk.bigrams(cricket_tokens))"
   ]
  },
  {
   "cell_type": "code",
   "execution_count": 16,
   "metadata": {},
   "outputs": [
    {
     "data": {
      "text/plain": [
       "[('After', 'surprising', 'the'),\n",
       " ('surprising', 'the', 'hosts'),\n",
       " ('the', 'hosts', 'in'),\n",
       " ('hosts', 'in', 'the'),\n",
       " ('in', 'the', 'first'),\n",
       " ('the', 'first', 'Test'),\n",
       " ('first', 'Test', ','),\n",
       " ('Test', ',', 'Sri'),\n",
       " (',', 'Sri', 'Lank'),\n",
       " ('Sri', 'Lank', 'made'),\n",
       " ('Lank', 'made', 'a'),\n",
       " ('made', 'a', 'positive'),\n",
       " ('a', 'positive', 'start'),\n",
       " ('positive', 'start', 'to'),\n",
       " ('start', 'to', 'the'),\n",
       " ('to', 'the', 'second'),\n",
       " ('the', 'second', 'Test'),\n",
       " ('second', 'Test', 'as'),\n",
       " ('Test', 'as', 'well'),\n",
       " ('as', 'well', 'by'),\n",
       " ('well', 'by', 'bowling')]"
      ]
     },
     "execution_count": 16,
     "metadata": {},
     "output_type": "execute_result"
    }
   ],
   "source": [
    "list(nltk.trigrams(cricket_tokens))"
   ]
  },
  {
   "cell_type": "code",
   "execution_count": 19,
   "metadata": {},
   "outputs": [
    {
     "data": {
      "text/plain": [
       "[('After', 'surprising', 'the', 'hosts', 'in', 'the'),\n",
       " ('surprising', 'the', 'hosts', 'in', 'the', 'first'),\n",
       " ('the', 'hosts', 'in', 'the', 'first', 'Test'),\n",
       " ('hosts', 'in', 'the', 'first', 'Test', ','),\n",
       " ('in', 'the', 'first', 'Test', ',', 'Sri'),\n",
       " ('the', 'first', 'Test', ',', 'Sri', 'Lank'),\n",
       " ('first', 'Test', ',', 'Sri', 'Lank', 'made'),\n",
       " ('Test', ',', 'Sri', 'Lank', 'made', 'a'),\n",
       " (',', 'Sri', 'Lank', 'made', 'a', 'positive'),\n",
       " ('Sri', 'Lank', 'made', 'a', 'positive', 'start'),\n",
       " ('Lank', 'made', 'a', 'positive', 'start', 'to'),\n",
       " ('made', 'a', 'positive', 'start', 'to', 'the'),\n",
       " ('a', 'positive', 'start', 'to', 'the', 'second'),\n",
       " ('positive', 'start', 'to', 'the', 'second', 'Test'),\n",
       " ('start', 'to', 'the', 'second', 'Test', 'as'),\n",
       " ('to', 'the', 'second', 'Test', 'as', 'well'),\n",
       " ('the', 'second', 'Test', 'as', 'well', 'by'),\n",
       " ('second', 'Test', 'as', 'well', 'by', 'bowling')]"
      ]
     },
     "execution_count": 19,
     "metadata": {},
     "output_type": "execute_result"
    }
   ],
   "source": [
    "list(nltk.ngrams(cricket_tokens,6))"
   ]
  },
  {
   "cell_type": "markdown",
   "metadata": {},
   "source": [
    "# stemming"
   ]
  },
  {
   "cell_type": "code",
   "execution_count": 23,
   "metadata": {},
   "outputs": [],
   "source": [
    "from nltk.stem import PorterStemmer\n",
    "pst=PorterStemmer()"
   ]
  },
  {
   "cell_type": "code",
   "execution_count": 28,
   "metadata": {},
   "outputs": [
    {
     "data": {
      "text/plain": [
       "('win', 'studi', 'buy', 'go')"
      ]
     },
     "execution_count": 28,
     "metadata": {},
     "output_type": "execute_result"
    }
   ],
   "source": [
    "pst.stem(\"winning\"),pst.stem(\"studies\"),pst.stem(\"buying\"),pst.stem(\"going\")"
   ]
  },
  {
   "cell_type": "code",
   "execution_count": 29,
   "metadata": {},
   "outputs": [],
   "source": [
    "#Lemmatization\n",
    "\n",
    "from nltk.stem import wordnet\n",
    "from nltk.stem import WordNetLemmatizer\n",
    "lemmatizer=WordNetLemmatizer()"
   ]
  },
  {
   "cell_type": "code",
   "execution_count": 37,
   "metadata": {},
   "outputs": [],
   "source": [
    "words_to_stem = [\"cats\",\"cacti\",\"geese\",\"goes\"]"
   ]
  },
  {
   "cell_type": "code",
   "execution_count": 38,
   "metadata": {},
   "outputs": [
    {
     "name": "stdout",
     "output_type": "stream",
     "text": [
      "cats:cat\n",
      "cacti:cactus\n",
      "geese:goose\n",
      "goes:go\n"
     ]
    }
   ],
   "source": [
    "for i in words_to_stem:\n",
    "    print(i + \":\" + lemmatizer.lemmatize(i))"
   ]
  },
  {
   "cell_type": "code",
   "execution_count": 43,
   "metadata": {},
   "outputs": [],
   "source": [
    "#pos\n",
    "peace = \"What do you mean,'I dont believe in God' i talk to him everyday.\""
   ]
  },
  {
   "cell_type": "code",
   "execution_count": 44,
   "metadata": {},
   "outputs": [
    {
     "name": "stdout",
     "output_type": "stream",
     "text": [
      "[('What', 'WP')]\n",
      "[('do', 'VB')]\n",
      "[('you', 'PRP')]\n",
      "[('mean', 'NN')]\n",
      "[(',', ',')]\n",
      "[(\"'\", \"''\")]\n",
      "[('I', 'PRP')]\n",
      "[('dont', 'NN')]\n",
      "[('believe', 'VB')]\n",
      "[('in', 'IN')]\n",
      "[('God', 'NNP')]\n",
      "[(\"'\", \"''\")]\n",
      "[('i', 'NN')]\n",
      "[('talk', 'NN')]\n",
      "[('to', 'TO')]\n",
      "[('him', 'PRP')]\n",
      "[('everyday', 'NN')]\n",
      "[('.', '.')]\n"
     ]
    }
   ],
   "source": [
    "peace_tokenize=word_tokenize(peace)\n",
    "\n",
    "for i in peace_tokenize:\n",
    "    print(nltk.pos_tag([i]))"
   ]
  },
  {
   "cell_type": "code",
   "execution_count": null,
   "metadata": {},
   "outputs": [],
   "source": []
  },
  {
   "cell_type": "code",
   "execution_count": null,
   "metadata": {},
   "outputs": [],
   "source": []
  }
 ],
 "metadata": {
  "kernelspec": {
   "display_name": "Python 3",
   "language": "python",
   "name": "python3"
  },
  "language_info": {
   "codemirror_mode": {
    "name": "ipython",
    "version": 3
   },
   "file_extension": ".py",
   "mimetype": "text/x-python",
   "name": "python",
   "nbconvert_exporter": "python",
   "pygments_lexer": "ipython3",
   "version": "3.7.3"
  }
 },
 "nbformat": 4,
 "nbformat_minor": 2
}
