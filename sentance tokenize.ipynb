{
 "cells": [
  {
   "cell_type": "code",
   "execution_count": 1,
   "id": "422a6fd8",
   "metadata": {},
   "outputs": [],
   "source": [
    "import nltk"
   ]
  },
  {
   "cell_type": "code",
   "execution_count": 19,
   "id": "84c549e5",
   "metadata": {},
   "outputs": [],
   "source": [
    "Para = 'Hi Guys.Welcome to Intellipaat. This is a blog on the NLP interview questions and answers.'"
   ]
  },
  {
   "cell_type": "code",
   "execution_count": 22,
   "id": "e01fcb4d",
   "metadata": {},
   "outputs": [],
   "source": [
    "\n",
    "from nltk.tokenize import sent_tokenize"
   ]
  },
  {
   "cell_type": "code",
   "execution_count": 23,
   "id": "ceebbe16",
   "metadata": {},
   "outputs": [
    {
     "data": {
      "text/plain": [
       "['Hi Guys.Welcome to Intellipaat.',\n",
       " 'This is a blog on the NLP interview questions and answers.']"
      ]
     },
     "execution_count": 23,
     "metadata": {},
     "output_type": "execute_result"
    }
   ],
   "source": [
    "sent_tokenize(Para)"
   ]
  },
  {
   "cell_type": "code",
   "execution_count": null,
   "id": "3d07c06f",
   "metadata": {},
   "outputs": [],
   "source": []
  }
 ],
 "metadata": {
  "kernelspec": {
   "display_name": "Python 3",
   "language": "python",
   "name": "python3"
  },
  "language_info": {
   "codemirror_mode": {
    "name": "ipython",
    "version": 3
   },
   "file_extension": ".py",
   "mimetype": "text/x-python",
   "name": "python",
   "nbconvert_exporter": "python",
   "pygments_lexer": "ipython3",
   "version": "3.8.8"
  }
 },
 "nbformat": 4,
 "nbformat_minor": 5
}
