{
 "cells": [
  {
   "cell_type": "code",
   "execution_count": 1,
   "id": "55af569f",
   "metadata": {},
   "outputs": [],
   "source": [
    "import nltk"
   ]
  },
  {
   "cell_type": "code",
   "execution_count": 2,
   "id": "75155c99",
   "metadata": {},
   "outputs": [],
   "source": [
    "Para = 'Hi Guys.Welcome to segmetation. This is a blog on the NLP interview questions and answers.'"
   ]
  },
  {
   "cell_type": "code",
   "execution_count": 3,
   "id": "955b2eee",
   "metadata": {},
   "outputs": [],
   "source": [
    "\n",
    "from nltk.tokenize import sent_tokenize"
   ]
  },
  {
   "cell_type": "code",
   "execution_count": null,
   "id": "5da60129",
   "metadata": {},
   "outputs": [],
   "source": [
    "word_tokenize(Para)"
   ]
  },
  {
   "cell_type": "code",
   "execution_count": null,
   "id": "b1b84b74",
   "metadata": {},
   "outputs": [],
   "source": [
    "sent_tokenize(Para)"
   ]
  }
 ],
 "metadata": {
  "kernelspec": {
   "display_name": "Python 3",
   "language": "python",
   "name": "python3"
  },
  "language_info": {
   "codemirror_mode": {
    "name": "ipython",
    "version": 3
   },
   "file_extension": ".py",
   "mimetype": "text/x-python",
   "name": "python",
   "nbconvert_exporter": "python",
   "pygments_lexer": "ipython3",
   "version": "3.8.8"
  }
 },
 "nbformat": 4,
 "nbformat_minor": 5
}
