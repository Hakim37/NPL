{
 "cells": [
  {
   "cell_type": "markdown",
   "id": "f307273e",
   "metadata": {},
   "source": [
    "## Parsing in nlp"
   ]
  },
  {
   "cell_type": "markdown",
   "id": "260a079c",
   "metadata": {},
   "source": [
    "Suntactic strure of text and done by analyzing the individual element of text"
   ]
  },
  {
   "cell_type": "code",
   "execution_count": 1,
   "id": "9c9fa80f",
   "metadata": {},
   "outputs": [],
   "source": [
    "import nltk\n",
    "text='Top 30 NLP interview questions and answer'"
   ]
  },
  {
   "cell_type": "code",
   "execution_count": 2,
   "id": "38b72e56",
   "metadata": {},
   "outputs": [],
   "source": [
    "from nltk.tokenize import word_tokenize"
   ]
  },
  {
   "cell_type": "code",
   "execution_count": 4,
   "id": "45b7acc2",
   "metadata": {},
   "outputs": [
    {
     "data": {
      "text/plain": [
       "['Top', '30', 'NLP', 'interview', 'questions', 'and', 'answer']"
      ]
     },
     "execution_count": 4,
     "metadata": {},
     "output_type": "execute_result"
    }
   ],
   "source": [
    "text_token=word_tokenize(text)\n",
    "text_token"
   ]
  },
  {
   "cell_type": "code",
   "execution_count": 5,
   "id": "26e07465",
   "metadata": {
    "scrolled": true
   },
   "outputs": [
    {
     "ename": "AttributeError",
     "evalue": "module 'nltk' has no attribute 'unigrams'",
     "output_type": "error",
     "traceback": [
      "\u001b[1;31m---------------------------------------------------------------------------\u001b[0m",
      "\u001b[1;31mAttributeError\u001b[0m                            Traceback (most recent call last)",
      "\u001b[1;32m<ipython-input-5-f5342155a8b6>\u001b[0m in \u001b[0;36m<module>\u001b[1;34m\u001b[0m\n\u001b[1;32m----> 1\u001b[1;33m \u001b[0mlist\u001b[0m\u001b[1;33m(\u001b[0m\u001b[0mnltk\u001b[0m\u001b[1;33m.\u001b[0m\u001b[0munigrams\u001b[0m\u001b[1;33m(\u001b[0m\u001b[0mtext\u001b[0m\u001b[1;33m)\u001b[0m\u001b[1;33m)\u001b[0m\u001b[1;33m\u001b[0m\u001b[1;33m\u001b[0m\u001b[0m\n\u001b[0m",
      "\u001b[1;31mAttributeError\u001b[0m: module 'nltk' has no attribute 'unigrams'"
     ]
    }
   ],
   "source": [
    "list(nltk.unigrams(text))"
   ]
  },
  {
   "cell_type": "code",
   "execution_count": 6,
   "id": "d09b3423",
   "metadata": {},
   "outputs": [
    {
     "data": {
      "text/plain": [
       "[('T', 'o'),\n",
       " ('o', 'p'),\n",
       " ('p', ' '),\n",
       " (' ', '3'),\n",
       " ('3', '0'),\n",
       " ('0', ' '),\n",
       " (' ', 'N'),\n",
       " ('N', 'L'),\n",
       " ('L', 'P'),\n",
       " ('P', ' '),\n",
       " (' ', 'i'),\n",
       " ('i', 'n'),\n",
       " ('n', 't'),\n",
       " ('t', 'e'),\n",
       " ('e', 'r'),\n",
       " ('r', 'v'),\n",
       " ('v', 'i'),\n",
       " ('i', 'e'),\n",
       " ('e', 'w'),\n",
       " ('w', ' '),\n",
       " (' ', 'q'),\n",
       " ('q', 'u'),\n",
       " ('u', 'e'),\n",
       " ('e', 's'),\n",
       " ('s', 't'),\n",
       " ('t', 'i'),\n",
       " ('i', 'o'),\n",
       " ('o', 'n'),\n",
       " ('n', 's'),\n",
       " ('s', ' '),\n",
       " (' ', 'a'),\n",
       " ('a', 'n'),\n",
       " ('n', 'd'),\n",
       " ('d', ' '),\n",
       " (' ', 'a'),\n",
       " ('a', 'n'),\n",
       " ('n', 's'),\n",
       " ('s', 'w'),\n",
       " ('w', 'e'),\n",
       " ('e', 'r')]"
      ]
     },
     "execution_count": 6,
     "metadata": {},
     "output_type": "execute_result"
    }
   ],
   "source": [
    "list(nltk.bigrams(text))"
   ]
  },
  {
   "cell_type": "code",
   "execution_count": 8,
   "id": "784b631f",
   "metadata": {},
   "outputs": [
    {
     "data": {
      "text/plain": [
       "[('T', 'o', 'p'),\n",
       " ('o', 'p', ' '),\n",
       " ('p', ' ', '3'),\n",
       " (' ', '3', '0'),\n",
       " ('3', '0', ' '),\n",
       " ('0', ' ', 'N'),\n",
       " (' ', 'N', 'L'),\n",
       " ('N', 'L', 'P'),\n",
       " ('L', 'P', ' '),\n",
       " ('P', ' ', 'i'),\n",
       " (' ', 'i', 'n'),\n",
       " ('i', 'n', 't'),\n",
       " ('n', 't', 'e'),\n",
       " ('t', 'e', 'r'),\n",
       " ('e', 'r', 'v'),\n",
       " ('r', 'v', 'i'),\n",
       " ('v', 'i', 'e'),\n",
       " ('i', 'e', 'w'),\n",
       " ('e', 'w', ' '),\n",
       " ('w', ' ', 'q'),\n",
       " (' ', 'q', 'u'),\n",
       " ('q', 'u', 'e'),\n",
       " ('u', 'e', 's'),\n",
       " ('e', 's', 't'),\n",
       " ('s', 't', 'i'),\n",
       " ('t', 'i', 'o'),\n",
       " ('i', 'o', 'n'),\n",
       " ('o', 'n', 's'),\n",
       " ('n', 's', ' '),\n",
       " ('s', ' ', 'a'),\n",
       " (' ', 'a', 'n'),\n",
       " ('a', 'n', 'd'),\n",
       " ('n', 'd', ' '),\n",
       " ('d', ' ', 'a'),\n",
       " (' ', 'a', 'n'),\n",
       " ('a', 'n', 's'),\n",
       " ('n', 's', 'w'),\n",
       " ('s', 'w', 'e'),\n",
       " ('w', 'e', 'r')]"
      ]
     },
     "execution_count": 8,
     "metadata": {},
     "output_type": "execute_result"
    }
   ],
   "source": [
    "list(nltk.trigrams(text))"
   ]
  }
 ],
 "metadata": {
  "kernelspec": {
   "display_name": "Python 3",
   "language": "python",
   "name": "python3"
  },
  "language_info": {
   "codemirror_mode": {
    "name": "ipython",
    "version": 3
   },
   "file_extension": ".py",
   "mimetype": "text/x-python",
   "name": "python",
   "nbconvert_exporter": "python",
   "pygments_lexer": "ipython3",
   "version": "3.8.8"
  }
 },
 "nbformat": 4,
 "nbformat_minor": 5
}
