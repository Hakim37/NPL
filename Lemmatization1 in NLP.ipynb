{
 "cells": [
  {
   "cell_type": "markdown",
   "id": "bd0cb9c4",
   "metadata": {},
   "source": [
    "## import wordnet and WordNetLemmatizer"
   ]
  },
  {
   "cell_type": "code",
   "execution_count": 12,
   "id": "ac67032d",
   "metadata": {},
   "outputs": [],
   "source": [
    "import nltk"
   ]
  },
  {
   "cell_type": "code",
   "execution_count": 13,
   "id": "e68a2841",
   "metadata": {},
   "outputs": [],
   "source": [
    "from nltk.stem import wordnet\n",
    "from nltk.stem import WordNetLemmatizer"
   ]
  },
  {
   "cell_type": "markdown",
   "id": "afcd43a9",
   "metadata": {},
   "source": [
    "### Creating an object for WordnetLemmatizer"
   ]
  },
  {
   "cell_type": "code",
   "execution_count": 20,
   "id": "65904fd8",
   "metadata": {},
   "outputs": [
    {
     "name": "stdout",
     "output_type": "stream",
     "text": [
      "Dogs:Dogs\n",
      "Corpora:Corpora\n",
      "Studies:Studies\n",
      "run:run\n"
     ]
    }
   ],
   "source": [
    "lemma = WordNetLemmatizer()\n",
    "list = ['Dogs','Corpora','Studies','run']\n",
    "\n",
    "for n in list:\n",
    "    print(n +\":\"+ lemma.lemmatize(n))"
   ]
  },
  {
   "cell_type": "code",
   "execution_count": null,
   "id": "26983d1e",
   "metadata": {},
   "outputs": [],
   "source": []
  }
 ],
 "metadata": {
  "kernelspec": {
   "display_name": "Python 3",
   "language": "python",
   "name": "python3"
  },
  "language_info": {
   "codemirror_mode": {
    "name": "ipython",
    "version": 3
   },
   "file_extension": ".py",
   "mimetype": "text/x-python",
   "name": "python",
   "nbconvert_exporter": "python",
   "pygments_lexer": "ipython3",
   "version": "3.8.8"
  }
 },
 "nbformat": 4,
 "nbformat_minor": 5
}
