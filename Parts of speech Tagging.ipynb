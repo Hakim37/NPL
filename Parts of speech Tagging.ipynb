{
 "cells": [
  {
   "cell_type": "markdown",
   "id": "c02ad16b",
   "metadata": {},
   "source": [
    "### POS Tagging"
   ]
  },
  {
   "cell_type": "code",
   "execution_count": 1,
   "id": "400470d6",
   "metadata": {},
   "outputs": [],
   "source": [
    "import nltk\n",
    "from nltk.corpus import stopwords\n",
    "from nltk.tokenize import word_tokenize,sent_tokenize\n",
    "\n",
    "stop_words = set(stopwords.words('english'))\n",
    "txt = 'sourav,Pratyush,and Abhinav are good friends.'"
   ]
  },
  {
   "cell_type": "code",
   "execution_count": 2,
   "id": "90909035",
   "metadata": {},
   "outputs": [],
   "source": [
    "Tokenized_text = sent_tokenize(txt)"
   ]
  },
  {
   "cell_type": "code",
   "execution_count": null,
   "id": "6ba72650",
   "metadata": {},
   "outputs": [],
   "source": [
    "for n in tokenized_text:\n",
    "        \n",
    "    wordsList = nltk.word_tokenize(i)\n",
    "    wordsList = [w for w in wordsList if not w in stop_words]"
   ]
  },
  {
   "cell_type": "code",
   "execution_count": null,
   "id": "ced802f8",
   "metadata": {},
   "outputs": [],
   "source": [
    "tagged_words = nltk.pos_tag(wordsList)\n",
    "  print(tagged_words)"
   ]
  }
 ],
 "metadata": {
  "kernelspec": {
   "display_name": "Python 3",
   "language": "python",
   "name": "python3"
  },
  "language_info": {
   "codemirror_mode": {
    "name": "ipython",
    "version": 3
   },
   "file_extension": ".py",
   "mimetype": "text/x-python",
   "name": "python",
   "nbconvert_exporter": "python",
   "pygments_lexer": "ipython3",
   "version": "3.8.8"
  }
 },
 "nbformat": 4,
 "nbformat_minor": 5
}
