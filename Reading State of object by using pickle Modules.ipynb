{
 "cells": [
  {
   "cell_type": "code",
   "execution_count": 1,
   "id": "d8cea2d8",
   "metadata": {},
   "outputs": [],
   "source": [
    "import pickle"
   ]
  },
  {
   "cell_type": "code",
   "execution_count": null,
   "id": "a3e55c9a",
   "metadata": {},
   "outputs": [],
   "source": [
    "class Employee:\n",
    "    def__init__(self,eno,ename,esal,eaddr):\n",
    "        self.eno =eno;\n",
    "        self.ename = ename;\n",
    "        self.esal = ename;\n",
    "        self.eaddr = eaddr;\n",
    "        \n",
    "    def display(self):\n",
    "        print(self.eno,\"\\t\",self.ename,'\\t',self.esal,\"\\t\",self.eaddr)\n",
    "with open(\"emp.dat\",\"wb\") as f:\n",
    "    e = Employee(100,\"Durga\",1000,\"Hyd\")\n",
    "    pickle.dump(e,f)\n",
    "    print(\"Pickling of Enployee Object complete..\")\n",
    "    \n",
    "with open(\"emp.dat\",\"rb\") as f:\n",
    "    obj = pickle.load(f)\n",
    "    print(\"printing Employee information after unpikle\")\n",
    "    obj.display()"
   ]
  }
 ],
 "metadata": {
  "kernelspec": {
   "display_name": "Python 3",
   "language": "python",
   "name": "python3"
  },
  "language_info": {
   "codemirror_mode": {
    "name": "ipython",
    "version": 3
   },
   "file_extension": ".py",
   "mimetype": "text/x-python",
   "name": "python",
   "nbconvert_exporter": "python",
   "pygments_lexer": "ipython3",
   "version": "3.8.8"
  }
 },
 "nbformat": 4,
 "nbformat_minor": 5
}
