{
 "cells": [
  {
   "cell_type": "code",
   "execution_count": 1,
   "metadata": {},
   "outputs": [],
   "source": [
    "#Nltk packege\n",
    "from nltk.tokenize import sent_tokenize"
   ]
  },
  {
   "cell_type": "code",
   "execution_count": 2,
   "metadata": {},
   "outputs": [],
   "source": [
    "Para ='Hi Guys. Welcome to Intellipaat. This is a blog on the NLP interview questions and answers.'"
   ]
  },
  {
   "cell_type": "code",
   "execution_count": 3,
   "metadata": {},
   "outputs": [
    {
     "data": {
      "text/plain": [
       "['Hi Guys.',\n",
       " 'Welcome to Intellipaat.',\n",
       " 'This is a blog on the NLP interview questions and answers.']"
      ]
     },
     "execution_count": 3,
     "metadata": {},
     "output_type": "execute_result"
    }
   ],
   "source": [
    "sent_tokenize(Para)"
   ]
  },
  {
   "cell_type": "code",
   "execution_count": 4,
   "metadata": {},
   "outputs": [],
   "source": [
    "from nltk.tokenize import word_tokenize"
   ]
  },
  {
   "cell_type": "code",
   "execution_count": 5,
   "metadata": {},
   "outputs": [
    {
     "data": {
      "text/plain": [
       "['Hi',\n",
       " 'Guys',\n",
       " '.',\n",
       " 'Welcome',\n",
       " 'to',\n",
       " 'Intellipaat',\n",
       " '.',\n",
       " 'This',\n",
       " 'is',\n",
       " 'a',\n",
       " 'blog',\n",
       " 'on',\n",
       " 'the',\n",
       " 'NLP',\n",
       " 'interview',\n",
       " 'questions',\n",
       " 'and',\n",
       " 'answers',\n",
       " '.']"
      ]
     },
     "execution_count": 5,
     "metadata": {},
     "output_type": "execute_result"
    }
   ],
   "source": [
    "word_tokenize(Para)"
   ]
  },
  {
   "cell_type": "code",
   "execution_count": 6,
   "metadata": {},
   "outputs": [],
   "source": [
    "# parsing\n",
    "import nltk\n",
    "text='Top 30 NLP interview question and answers'"
   ]
  },
  {
   "cell_type": "code",
   "execution_count": 17,
   "metadata": {},
   "outputs": [],
   "source": [
    "text_token = word_tokenize(text)"
   ]
  },
  {
   "cell_type": "code",
   "execution_count": 23,
   "metadata": {},
   "outputs": [],
   "source": [
    "text_token1 = sent_tokenize(text)"
   ]
  },
  {
   "cell_type": "code",
   "execution_count": 26,
   "metadata": {},
   "outputs": [
    {
     "data": {
      "text/plain": [
       "[('T', 'o'),\n",
       " ('o', 'p'),\n",
       " ('p', ' '),\n",
       " (' ', '3'),\n",
       " ('3', '0'),\n",
       " ('0', ' '),\n",
       " (' ', 'N'),\n",
       " ('N', 'L'),\n",
       " ('L', 'P'),\n",
       " ('P', ' '),\n",
       " (' ', 'i'),\n",
       " ('i', 'n'),\n",
       " ('n', 't'),\n",
       " ('t', 'e'),\n",
       " ('e', 'r'),\n",
       " ('r', 'v'),\n",
       " ('v', 'i'),\n",
       " ('i', 'e'),\n",
       " ('e', 'w'),\n",
       " ('w', ' '),\n",
       " (' ', 'q'),\n",
       " ('q', 'u'),\n",
       " ('u', 'e'),\n",
       " ('e', 's'),\n",
       " ('s', 't'),\n",
       " ('t', 'i'),\n",
       " ('i', 'o'),\n",
       " ('o', 'n'),\n",
       " ('n', ' '),\n",
       " (' ', 'a'),\n",
       " ('a', 'n'),\n",
       " ('n', 'd'),\n",
       " ('d', ' '),\n",
       " (' ', 'a'),\n",
       " ('a', 'n'),\n",
       " ('n', 's'),\n",
       " ('s', 'w'),\n",
       " ('w', 'e'),\n",
       " ('e', 'r'),\n",
       " ('r', 's')]"
      ]
     },
     "execution_count": 26,
     "metadata": {},
     "output_type": "execute_result"
    }
   ],
   "source": [
    "list(nltk.bigrams(text))"
   ]
  },
  {
   "cell_type": "code",
   "execution_count": 28,
   "metadata": {},
   "outputs": [
    {
     "data": {
      "text/plain": [
       "[('T', 'o', 'p'),\n",
       " ('o', 'p', ' '),\n",
       " ('p', ' ', '3'),\n",
       " (' ', '3', '0'),\n",
       " ('3', '0', ' '),\n",
       " ('0', ' ', 'N'),\n",
       " (' ', 'N', 'L'),\n",
       " ('N', 'L', 'P'),\n",
       " ('L', 'P', ' '),\n",
       " ('P', ' ', 'i'),\n",
       " (' ', 'i', 'n'),\n",
       " ('i', 'n', 't'),\n",
       " ('n', 't', 'e'),\n",
       " ('t', 'e', 'r'),\n",
       " ('e', 'r', 'v'),\n",
       " ('r', 'v', 'i'),\n",
       " ('v', 'i', 'e'),\n",
       " ('i', 'e', 'w'),\n",
       " ('e', 'w', ' '),\n",
       " ('w', ' ', 'q'),\n",
       " (' ', 'q', 'u'),\n",
       " ('q', 'u', 'e'),\n",
       " ('u', 'e', 's'),\n",
       " ('e', 's', 't'),\n",
       " ('s', 't', 'i'),\n",
       " ('t', 'i', 'o'),\n",
       " ('i', 'o', 'n'),\n",
       " ('o', 'n', ' '),\n",
       " ('n', ' ', 'a'),\n",
       " (' ', 'a', 'n'),\n",
       " ('a', 'n', 'd'),\n",
       " ('n', 'd', ' '),\n",
       " ('d', ' ', 'a'),\n",
       " (' ', 'a', 'n'),\n",
       " ('a', 'n', 's'),\n",
       " ('n', 's', 'w'),\n",
       " ('s', 'w', 'e'),\n",
       " ('w', 'e', 'r'),\n",
       " ('e', 'r', 's')]"
      ]
     },
     "execution_count": 28,
     "metadata": {},
     "output_type": "execute_result"
    }
   ],
   "source": [
    "list(nltk.trigrams(text))"
   ]
  },
  {
   "cell_type": "code",
   "execution_count": 29,
   "metadata": {},
   "outputs": [
    {
     "data": {
      "text/plain": [
       "['Top 30 NLP interview question and answers']"
      ]
     },
     "execution_count": 29,
     "metadata": {},
     "output_type": "execute_result"
    }
   ],
   "source": [
    "text_token1"
   ]
  },
  {
   "cell_type": "markdown",
   "metadata": {},
   "source": [
    "### Stemming with the help of example"
   ]
  },
  {
   "cell_type": "code",
   "execution_count": 32,
   "metadata": {},
   "outputs": [],
   "source": [
    "from nltk.stem import PorterStemmer"
   ]
  },
  {
   "cell_type": "code",
   "execution_count": 34,
   "metadata": {},
   "outputs": [
    {
     "data": {
      "text/plain": [
       "('run', 'cooki', 'fli')"
      ]
     },
     "execution_count": 34,
     "metadata": {},
     "output_type": "execute_result"
    }
   ],
   "source": [
    "pst = PorterStemmer()\n",
    "pst.stem(\"running\"),pst.stem(\"cookis\"),pst.stem('flying')"
   ]
  },
  {
   "cell_type": "markdown",
   "metadata": {},
   "source": [
    "## Lemmatization with example"
   ]
  },
  {
   "cell_type": "code",
   "execution_count": 42,
   "metadata": {},
   "outputs": [],
   "source": [
    "from nltk.stem import wordnet\n",
    "from nltk.stem import WordNetLemmatizer"
   ]
  },
  {
   "cell_type": "code",
   "execution_count": 44,
   "metadata": {},
   "outputs": [
    {
     "name": "stdout",
     "output_type": "stream",
     "text": [
      "Dogs:Dogs\n",
      "Corpora:Corpora\n",
      "Studies:Studies\n"
     ]
    }
   ],
   "source": [
    "# WordNetLemmatizer\n",
    "lemma = WordNetLemmatizer()\n",
    "list = ['Dogs','Corpora','Studies']\n",
    "\n",
    "for n in list:\n",
    "    print(n + \":\"+lemma.lemmatize(n))"
   ]
  },
  {
   "cell_type": "markdown",
   "metadata": {},
   "source": [
    "### part of speech Tigging"
   ]
  },
  {
   "cell_type": "code",
   "execution_count": 50,
   "metadata": {},
   "outputs": [],
   "source": [
    "import nltk\n",
    "from nltk.corpus import stopwords\n",
    "from nltk.tokenize import word_tokenize, sent_tokenize\n",
    "stop_words = set(stopwords.words('english'))\n",
    "txt = \"Sourav, Pratyush, and Abhinav are good friends.\""
   ]
  },
  {
   "cell_type": "code",
   "execution_count": 53,
   "metadata": {},
   "outputs": [
    {
     "data": {
      "text/plain": [
       "['Sourav, Pratyush, and Abhinav are good friends.']"
      ]
     },
     "execution_count": 53,
     "metadata": {},
     "output_type": "execute_result"
    }
   ],
   "source": [
    "tokenize_text = sent_tokenize(txt)\n",
    "tokenize_text"
   ]
  },
  {
   "cell_type": "code",
   "execution_count": 60,
   "metadata": {},
   "outputs": [],
   "source": [
    "for n in tokenize_text:\n",
    "    \n",
    "    wordsList = nltk.word_tokenize(n)\n",
    "    wordsList = ['w for w in wordsList if not w instop_words']"
   ]
  },
  {
   "cell_type": "code",
   "execution_count": 63,
   "metadata": {},
   "outputs": [
    {
     "name": "stdout",
     "output_type": "stream",
     "text": [
      "[('w for w in wordsList if not w instop_words', 'NNS')]\n"
     ]
    }
   ],
   "source": [
    "tagged_words = nltk.pos_tag(wordsList)\n",
    "print(tagged_words)"
   ]
  },
  {
   "cell_type": "code",
   "execution_count": null,
   "metadata": {},
   "outputs": [],
   "source": []
  }
 ],
 "metadata": {
  "kernelspec": {
   "display_name": "Python 3",
   "language": "python",
   "name": "python3"
  },
  "language_info": {
   "codemirror_mode": {
    "name": "ipython",
    "version": 3
   },
   "file_extension": ".py",
   "mimetype": "text/x-python",
   "name": "python",
   "nbconvert_exporter": "python",
   "pygments_lexer": "ipython3",
   "version": "3.7.3"
  }
 },
 "nbformat": 4,
 "nbformat_minor": 2
}
